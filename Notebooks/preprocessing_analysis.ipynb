{
 "cells": [
  {
   "cell_type": "code",
   "execution_count": 190,
   "metadata": {},
   "outputs": [],
   "source": [
    "import pandas as pd\n",
    "import matplotlib.pyplot as plt\n",
    "from collections import Counter"
   ]
  },
  {
   "cell_type": "code",
   "execution_count": 151,
   "metadata": {},
   "outputs": [],
   "source": [
    "# Add the parent directory to the system path \n",
    "import os\n",
    "import sys\n",
    "sys.path.append(os.path.abspath(os.path.join('..')))"
   ]
  },
  {
   "cell_type": "code",
   "execution_count": null,
   "metadata": {},
   "outputs": [],
   "source": [
    "# Load the dataset\n",
    "df = pd.read_csv('../data/telegram_data.csv') "
   ]
  },
  {
   "cell_type": "code",
   "execution_count": 153,
   "metadata": {},
   "outputs": [
    {
     "data": {
      "text/html": [
       "<div>\n",
       "<style scoped>\n",
       "    .dataframe tbody tr th:only-of-type {\n",
       "        vertical-align: middle;\n",
       "    }\n",
       "\n",
       "    .dataframe tbody tr th {\n",
       "        vertical-align: top;\n",
       "    }\n",
       "\n",
       "    .dataframe thead th {\n",
       "        text-align: right;\n",
       "    }\n",
       "</style>\n",
       "<table border=\"1\" class=\"dataframe\">\n",
       "  <thead>\n",
       "    <tr style=\"text-align: right;\">\n",
       "      <th></th>\n",
       "      <th>Channel Title</th>\n",
       "      <th>Channel Username</th>\n",
       "      <th>ID</th>\n",
       "      <th>Message</th>\n",
       "      <th>Date</th>\n",
       "      <th>Media Path</th>\n",
       "    </tr>\n",
       "  </thead>\n",
       "  <tbody>\n",
       "    <tr>\n",
       "      <th>0</th>\n",
       "      <td>SINA KIDS/ሲና ኪድስⓇ</td>\n",
       "      <td>@sinayelj</td>\n",
       "      <td>14845</td>\n",
       "      <td>ክቡራን ደምበኞቻችን እሁድ ገርጂ እና ብስራተ ገብሬል የሚገኘው ሱቃችን ከ...</td>\n",
       "      <td>2024-09-28 17:48:50+00:00</td>\n",
       "      <td>photos\\@sinayelj_14845.jpg</td>\n",
       "    </tr>\n",
       "    <tr>\n",
       "      <th>1</th>\n",
       "      <td>SINA KIDS/ሲና ኪድስⓇ</td>\n",
       "      <td>@sinayelj</td>\n",
       "      <td>14844</td>\n",
       "      <td>ክቡራን ደምበኞቻችን ዛሬ ገርጂ እና ብስራተ ገብሬል የሚገኘው ሱቃችን ሙሉ...</td>\n",
       "      <td>2024-09-27 08:02:52+00:00</td>\n",
       "      <td>photos\\@sinayelj_14844.jpg</td>\n",
       "    </tr>\n",
       "    <tr>\n",
       "      <th>2</th>\n",
       "      <td>SINA KIDS/ሲና ኪድስⓇ</td>\n",
       "      <td>@sinayelj</td>\n",
       "      <td>14843</td>\n",
       "      <td>ለመላው የክርስትና እምነት ተከታዮች በሙሉ እንኳን ለመስቀል ደመራ በዓል ...</td>\n",
       "      <td>2024-09-27 07:38:57+00:00</td>\n",
       "      <td>photos\\@sinayelj_14843.jpg</td>\n",
       "    </tr>\n",
       "    <tr>\n",
       "      <th>3</th>\n",
       "      <td>SINA KIDS/ሲና ኪድስⓇ</td>\n",
       "      <td>@sinayelj</td>\n",
       "      <td>14841</td>\n",
       "      <td>NaN</td>\n",
       "      <td>2024-09-26 12:24:51+00:00</td>\n",
       "      <td>photos\\@sinayelj_14841.jpg</td>\n",
       "    </tr>\n",
       "    <tr>\n",
       "      <th>4</th>\n",
       "      <td>SINA KIDS/ሲና ኪድስⓇ</td>\n",
       "      <td>@sinayelj</td>\n",
       "      <td>14840</td>\n",
       "      <td>NaN</td>\n",
       "      <td>2024-09-26 12:24:51+00:00</td>\n",
       "      <td>photos\\@sinayelj_14840.jpg</td>\n",
       "    </tr>\n",
       "  </tbody>\n",
       "</table>\n",
       "</div>"
      ],
      "text/plain": [
       "       Channel Title Channel Username     ID  \\\n",
       "0  SINA KIDS/ሲና ኪድስⓇ        @sinayelj  14845   \n",
       "1  SINA KIDS/ሲና ኪድስⓇ        @sinayelj  14844   \n",
       "2  SINA KIDS/ሲና ኪድስⓇ        @sinayelj  14843   \n",
       "3  SINA KIDS/ሲና ኪድስⓇ        @sinayelj  14841   \n",
       "4  SINA KIDS/ሲና ኪድስⓇ        @sinayelj  14840   \n",
       "\n",
       "                                             Message  \\\n",
       "0  ክቡራን ደምበኞቻችን እሁድ ገርጂ እና ብስራተ ገብሬል የሚገኘው ሱቃችን ከ...   \n",
       "1  ክቡራን ደምበኞቻችን ዛሬ ገርጂ እና ብስራተ ገብሬል የሚገኘው ሱቃችን ሙሉ...   \n",
       "2  ለመላው የክርስትና እምነት ተከታዮች በሙሉ እንኳን ለመስቀል ደመራ በዓል ...   \n",
       "3                                                NaN   \n",
       "4                                                NaN   \n",
       "\n",
       "                        Date                  Media Path  \n",
       "0  2024-09-28 17:48:50+00:00  photos\\@sinayelj_14845.jpg  \n",
       "1  2024-09-27 08:02:52+00:00  photos\\@sinayelj_14844.jpg  \n",
       "2  2024-09-27 07:38:57+00:00  photos\\@sinayelj_14843.jpg  \n",
       "3  2024-09-26 12:24:51+00:00  photos\\@sinayelj_14841.jpg  \n",
       "4  2024-09-26 12:24:51+00:00  photos\\@sinayelj_14840.jpg  "
      ]
     },
     "execution_count": 153,
     "metadata": {},
     "output_type": "execute_result"
    }
   ],
   "source": [
    "df.head()"
   ]
  },
  {
   "cell_type": "code",
   "execution_count": 154,
   "metadata": {},
   "outputs": [
    {
     "data": {
      "text/plain": [
       "Channel Title         0\n",
       "Channel Username      0\n",
       "ID                    0\n",
       "Message             170\n",
       "Date                  0\n",
       "Media Path            8\n",
       "dtype: int64"
      ]
     },
     "execution_count": 154,
     "metadata": {},
     "output_type": "execute_result"
    }
   ],
   "source": [
    "# check for missing values\n",
    "df.isnull().sum()"
   ]
  },
  {
   "cell_type": "code",
   "execution_count": 155,
   "metadata": {},
   "outputs": [],
   "source": [
    "df = df.dropna(subset=['Message'])"
   ]
  },
  {
   "cell_type": "code",
   "execution_count": 156,
   "metadata": {},
   "outputs": [
    {
     "data": {
      "text/html": [
       "<div>\n",
       "<style scoped>\n",
       "    .dataframe tbody tr th:only-of-type {\n",
       "        vertical-align: middle;\n",
       "    }\n",
       "\n",
       "    .dataframe tbody tr th {\n",
       "        vertical-align: top;\n",
       "    }\n",
       "\n",
       "    .dataframe thead th {\n",
       "        text-align: right;\n",
       "    }\n",
       "</style>\n",
       "<table border=\"1\" class=\"dataframe\">\n",
       "  <thead>\n",
       "    <tr style=\"text-align: right;\">\n",
       "      <th></th>\n",
       "      <th>Channel Title</th>\n",
       "      <th>Channel Username</th>\n",
       "      <th>ID</th>\n",
       "      <th>Message</th>\n",
       "      <th>Date</th>\n",
       "      <th>Media Path</th>\n",
       "    </tr>\n",
       "  </thead>\n",
       "  <tbody>\n",
       "    <tr>\n",
       "      <th>0</th>\n",
       "      <td>SINA KIDS/ሲና ኪድስⓇ</td>\n",
       "      <td>@sinayelj</td>\n",
       "      <td>14845</td>\n",
       "      <td>ክቡራን ደምበኞቻችን እሁድ ገርጂ እና ብስራተ ገብሬል የሚገኘው ሱቃችን ከ...</td>\n",
       "      <td>2024-09-28 17:48:50+00:00</td>\n",
       "      <td>photos\\@sinayelj_14845.jpg</td>\n",
       "    </tr>\n",
       "    <tr>\n",
       "      <th>1</th>\n",
       "      <td>SINA KIDS/ሲና ኪድስⓇ</td>\n",
       "      <td>@sinayelj</td>\n",
       "      <td>14844</td>\n",
       "      <td>ክቡራን ደምበኞቻችን ዛሬ ገርጂ እና ብስራተ ገብሬል የሚገኘው ሱቃችን ሙሉ...</td>\n",
       "      <td>2024-09-27 08:02:52+00:00</td>\n",
       "      <td>photos\\@sinayelj_14844.jpg</td>\n",
       "    </tr>\n",
       "    <tr>\n",
       "      <th>2</th>\n",
       "      <td>SINA KIDS/ሲና ኪድስⓇ</td>\n",
       "      <td>@sinayelj</td>\n",
       "      <td>14843</td>\n",
       "      <td>ለመላው የክርስትና እምነት ተከታዮች በሙሉ እንኳን ለመስቀል ደመራ በዓል ...</td>\n",
       "      <td>2024-09-27 07:38:57+00:00</td>\n",
       "      <td>photos\\@sinayelj_14843.jpg</td>\n",
       "    </tr>\n",
       "    <tr>\n",
       "      <th>5</th>\n",
       "      <td>SINA KIDS/ሲና ኪድስⓇ</td>\n",
       "      <td>@sinayelj</td>\n",
       "      <td>14839</td>\n",
       "      <td>ለኮንዶሚኒየም ለጠባብ ቤቶች ገላግሌ የሆነ ከንፁህ የሲልከን ጥሬ እቃ የተ...</td>\n",
       "      <td>2024-09-26 12:24:51+00:00</td>\n",
       "      <td>photos\\@sinayelj_14839.jpg</td>\n",
       "    </tr>\n",
       "    <tr>\n",
       "      <th>9</th>\n",
       "      <td>SINA KIDS/ሲና ኪድስⓇ</td>\n",
       "      <td>@sinayelj</td>\n",
       "      <td>14835</td>\n",
       "      <td>Baby romper   ከላዩ ፈር ውስጡ ኮተን የሆነ\\n\\n2000 birr\\...</td>\n",
       "      <td>2024-09-26 12:24:11+00:00</td>\n",
       "      <td>photos\\@sinayelj_14835.jpg</td>\n",
       "    </tr>\n",
       "  </tbody>\n",
       "</table>\n",
       "</div>"
      ],
      "text/plain": [
       "       Channel Title Channel Username     ID  \\\n",
       "0  SINA KIDS/ሲና ኪድስⓇ        @sinayelj  14845   \n",
       "1  SINA KIDS/ሲና ኪድስⓇ        @sinayelj  14844   \n",
       "2  SINA KIDS/ሲና ኪድስⓇ        @sinayelj  14843   \n",
       "5  SINA KIDS/ሲና ኪድስⓇ        @sinayelj  14839   \n",
       "9  SINA KIDS/ሲና ኪድስⓇ        @sinayelj  14835   \n",
       "\n",
       "                                             Message  \\\n",
       "0  ክቡራን ደምበኞቻችን እሁድ ገርጂ እና ብስራተ ገብሬል የሚገኘው ሱቃችን ከ...   \n",
       "1  ክቡራን ደምበኞቻችን ዛሬ ገርጂ እና ብስራተ ገብሬል የሚገኘው ሱቃችን ሙሉ...   \n",
       "2  ለመላው የክርስትና እምነት ተከታዮች በሙሉ እንኳን ለመስቀል ደመራ በዓል ...   \n",
       "5  ለኮንዶሚኒየም ለጠባብ ቤቶች ገላግሌ የሆነ ከንፁህ የሲልከን ጥሬ እቃ የተ...   \n",
       "9  Baby romper   ከላዩ ፈር ውስጡ ኮተን የሆነ\\n\\n2000 birr\\...   \n",
       "\n",
       "                        Date                  Media Path  \n",
       "0  2024-09-28 17:48:50+00:00  photos\\@sinayelj_14845.jpg  \n",
       "1  2024-09-27 08:02:52+00:00  photos\\@sinayelj_14844.jpg  \n",
       "2  2024-09-27 07:38:57+00:00  photos\\@sinayelj_14843.jpg  \n",
       "5  2024-09-26 12:24:51+00:00  photos\\@sinayelj_14839.jpg  \n",
       "9  2024-09-26 12:24:11+00:00  photos\\@sinayelj_14835.jpg  "
      ]
     },
     "execution_count": 156,
     "metadata": {},
     "output_type": "execute_result"
    }
   ],
   "source": [
    "df.head()"
   ]
  },
  {
   "cell_type": "code",
   "execution_count": 157,
   "metadata": {},
   "outputs": [
    {
     "data": {
      "text/plain": [
       "Channel Title       0\n",
       "Channel Username    0\n",
       "ID                  0\n",
       "Message             0\n",
       "Date                0\n",
       "Media Path          3\n",
       "dtype: int64"
      ]
     },
     "execution_count": 157,
     "metadata": {},
     "output_type": "execute_result"
    }
   ],
   "source": [
    "df.isnull().sum()"
   ]
  },
  {
   "cell_type": "code",
   "execution_count": 186,
   "metadata": {},
   "outputs": [
    {
     "data": {
      "text/plain": [
       "0     ክቡራን ደምበኞቻችን እሁድ ገርጂ እና ብስራተ ገብሬል የሚገኘው ሱቃችን ከ...\n",
       "1     ክቡራን ደምበኞቻችን ዛሬ ገርጂ እና ብስራተ ገብሬል የሚገኘው ሱቃችን ሙሉ...\n",
       "2     ለመላው የክርስትና እምነት ተከታዮች በሙሉ እንኳን ለመስቀል ደመራ በዓል ...\n",
       "5     ለኮንዶሚኒየም ለጠባብ ቤቶች ገላግሌ የሆነ ከንፁህ የሲልከን ጥሬ እቃ የተ...\n",
       "9     Baby romper   ከላዩ ፈር ውስጡ ኮተን የሆነ\\n\\n2000 birr\\...\n",
       "12    Chicco 5 in  mama bag\\nኦሪጅናል ማቴሪያል\\nበሳይዙ ትልቅ\\n...\n",
       "19    aiebao HIP SEAT CARRIER\\nምቹ ጠንካራ የልጆች ማዘያ\\nበተለ...\n",
       "29    Kids mat  \\n\\n400 ብር\\n\\nSize .80*2m\\n\\nfree de...\n",
       "34    Wearable breast milk collector\\n\\nWearable bre...\n",
       "35    ክቡራን ደምበኞቻችን እሁድ ገርጂ እና ብስራተ ገብሬል የሚገኘው ሱቃችን ከ...\n",
       "Name: Message, dtype: object"
      ]
     },
     "execution_count": 186,
     "metadata": {},
     "output_type": "execute_result"
    }
   ],
   "source": [
    "Message_df = df['Message']\n",
    "Message_df.head(10)"
   ]
  },
  {
   "cell_type": "code",
   "execution_count": 159,
   "metadata": {},
   "outputs": [
    {
     "name": "stdout",
     "output_type": "stream",
     "text": [
      "0     ክቡራን ደምበኞቻችን እሁድ ገርጂ እና ብስራተ ገብሬል የሚገኘው ሱቃችን ከ...\n",
      "1     ክቡራን ደምበኞቻችን ዛሬ ገርጂ እና ብስራተ ገብሬል የሚገኘው ሱቃችን ሙሉ...\n",
      "2     ለመላው የክርስትና እምነት ተከታዮች በሙሉ እንኳን ለመስቀል ደመራ በዓል ...\n",
      "5     ለኮንዶሚኒየም ለጠባብ ቤቶች ገላግሌ የሆነ ከንፁህ የሲልከን ጥሬ እቃ የተ...\n",
      "9     Baby romper   ከላዩ ፈር ውስጡ ኮተን የሆነ\\n\\n2000 birr\\...\n",
      "12    Chicco 5 in  mama bag\\nኦሪጅናል ማቴሪያል\\nበሳይዙ ትልቅ\\n...\n",
      "19    aiebao HIP SEAT CARRIER\\nምቹ ጠንካራ የልጆች ማዘያ\\nበተለ...\n",
      "29    Kids mat  \\n\\n400 ብር\\n\\nSize .80*2m\\n\\nfree de...\n",
      "34    Wearable breast milk collector\\n\\nWearable bre...\n",
      "35    ክቡራን ደምበኞቻችን እሁድ ገርጂ እና ብስራተ ገብሬል የሚገኘው ሱቃችን ከ...\n",
      "Name: Message, dtype: object\n"
     ]
    }
   ],
   "source": [
    "import re\n",
    "\n",
    "def remove_emojis(text):\n",
    "        \"\"\"Removes all emojis from text.\"\"\"\n",
    "        emoji_pattern = re.compile(\n",
    "            \"[\" \n",
    "            \"\\U0001F600-\\U0001F64F\" \n",
    "            \"\\U0001F300-\\U0001F5FF\" \n",
    "            \"\\U0001F680-\\U0001F6FF\"  \n",
    "            \"\\U0001F700-\\U0001F77F\"  \n",
    "            \"\\U0001F1E0-\\U0001F1FF\"   \n",
    "            \"\\U00002500-\\U00002BEF\"  \n",
    "            \"\\U00002702-\\U000027B0\"  \n",
    "            \"\\U0001F900-\\U0001F9FF\"  \n",
    "            \"\\U00002600-\\U000026FF\"  \n",
    "             \"\\u0031\\uFE0F\\u20E3\"     \n",
    "            \"]+\", \n",
    "            flags=re.UNICODE\n",
    "        )\n",
    "        return emoji_pattern.sub(r'', text)\n",
    "\n",
    "\n",
    "df['Message'] = df['Message'].apply(remove_emojis)\n",
    "#display the updated df\n",
    "print(df['Message'].head(10))\n"
   ]
  },
  {
   "cell_type": "code",
   "execution_count": 160,
   "metadata": {},
   "outputs": [],
   "source": [
    "df.to_csv('../data/clean_data.csv')"
   ]
  },
  {
   "cell_type": "code",
   "execution_count": 161,
   "metadata": {},
   "outputs": [
    {
     "data": {
      "text/plain": [
       "(56, 6)"
      ]
     },
     "execution_count": 161,
     "metadata": {},
     "output_type": "execute_result"
    }
   ],
   "source": [
    "df.shape"
   ]
  },
  {
   "cell_type": "code",
   "execution_count": 163,
   "metadata": {},
   "outputs": [
    {
     "name": "stdout",
     "output_type": "stream",
     "text": [
      "0    (ክቡራን O\\nደምበኞቻችን O\\nእሁድ O\\nገርጂ I-LOC\\nእና O\\nብስ...\n",
      "1    (ክቡራን O\\nደምበኞቻችን O\\nዛሬ O\\nገርጂ I-LOC\\nእና O\\nብስራ...\n",
      "2    (ለመላው O\\nየክርስትና O\\nእምነት O\\nተከታዮች O\\nበሙሉ O\\nእንኳ...\n",
      "5    (ለኮንዶሚኒየም O\\nለጠባብ O\\nቤቶች O\\nገላግሌ O\\nየሆነ O\\nከንፁ...\n",
      "9    (Baby B-PRODUCT\\nromper O\\nከላዩ O\\nፈር O\\nውስጡ O\\...\n",
      "Name: Labeled_Message, dtype: object\n"
     ]
    }
   ],
   "source": [
    "def label_message(message):\n",
    "        \"\"\"Labels messages with prices, locations, and kids products using a rule-based approach.\"\"\"\n",
    "        # Define multi-word entities (locations, products, etc.)\n",
    "        multi_word_entities = {\n",
    "            'ብስራተ ገብርኤል': 'I-LOC',\n",
    "        }\n",
    "        price = ['ብር', 'ETB', '$', 'Birr'],\n",
    "        location = ['ገርጂ', '4ኪሎ', 'ብስራተ ገብርኤል'],\n",
    "        kinds = ['toy', 'children', 'kids', 'መጫወቻ', 'play', 'games', 'fun', 'educational', \n",
    "                'puzzle', 'doll', 'action figure', 'stuffed animal', 'arts and crafts', \n",
    "                'books', 'outdoor toys', 'building blocks', 'baby', 'toddler', 'Baby', \n",
    "                'መጫወቻዎች']\n",
    "\n",
    "        # First, check for multi-word entities in the message\n",
    "        for entity, label in multi_word_entities.items():\n",
    "            if entity in message:\n",
    "                message = message.replace(entity, f\"{entity.replace(' ', '_')}\")  # Replace spaces with underscores\n",
    "\n",
    "        tokens = re.findall(r'\\S+', message)  # Tokenize after replacing multi-word entities\n",
    "        labeled_tokens = []\n",
    "\n",
    "        for token in tokens:\n",
    "            if token.startswith('@'):\n",
    "                continue  # Skip usernames\n",
    "\n",
    "            # After tokenizing, replace underscores with spaces again for multi-word entities\n",
    "            token = token.replace('_', ' ')\n",
    "\n",
    "            # Check if token is a multi-word entity (location, product, etc.)\n",
    "            if token in multi_word_entities:\n",
    "                labeled_tokens.append(f\"{token} {multi_word_entities[token]}\")\n",
    "            # Check if token is a location (single-word locations)\n",
    "            elif any(loc in token for loc in ['ገርጂ', '4ኪሎ']):\n",
    "                labeled_tokens.append(f\"{token} I-LOC\")\n",
    "            # Check if token is a phone number (exclude numbers longer than 9 digits)\n",
    "            elif re.match(r'^\\+?\\d{10,15}$', token):\n",
    "                labeled_tokens.append(f\"{token} O\")\n",
    "            # Check if token is a price (e.g., 500 ETB, $100, or ብር)\n",
    "            elif re.match(r'^\\d+(\\.\\d{1,2})?$', token) and len(token) < 9:\n",
    "                labeled_tokens.append(f\"{token} I-PRICE\")\n",
    "            elif 'ብር' in token or 'Birr' in token or 'ETB' in token:\n",
    "                labeled_tokens.append(f\"{token} I-PRICE\")\n",
    "            # Check if token matches kids products category\n",
    "            elif any(token.lower() == item.lower() for item in kinds):\n",
    "                labeled_tokens.append(f\"{token} B-PRODUCT\")\n",
    "            # Otherwise, treat it as outside any entity\n",
    "            else:\n",
    "                labeled_tokens.append(f\"{token} O\")\n",
    "\n",
    "        return \"\\n\".join(labeled_tokens) , tokens\n",
    "df['Labeled_Message'] = df['Message'].apply(label_message)\n",
    "print(df['Labeled_Message'].head(5))\n"
   ]
  },
  {
   "cell_type": "code",
   "execution_count": 165,
   "metadata": {},
   "outputs": [
    {
     "name": "stdout",
     "output_type": "stream",
     "text": [
      "Labeled data saved to ../data/labeled_telegram_data.txt\n"
     ]
    }
   ],
   "source": [
    "df['Labeled_Message'] = df['Message'].apply(label_message)\n",
    "labeled_data_path = '../data/labeled_telegram_data.txt'\n",
    "with open(labeled_data_path, 'w', encoding='utf-8') as f:\n",
    "    for _, row in df.iterrows():\n",
    "        f.write(f\"{row['Labeled_Message']}\\n\\n\")\n",
    "print(f\"Labeled data saved to {labeled_data_path}\")"
   ]
  },
  {
   "cell_type": "code",
   "execution_count": 164,
   "metadata": {},
   "outputs": [
    {
     "name": "stdout",
     "output_type": "stream",
     "text": [
      "Labeled data saved to ../data/labeled_telegram_data.conll\n"
     ]
    }
   ],
   "source": [
    "df['Labeled_Message'] = df['Message'].apply(label_message)\n",
    "labeled_data_path = '../data/labeled_telegram_data.conll'\n",
    "with open(labeled_data_path, 'w', encoding='utf-8') as f:\n",
    "    for _, row in df.iterrows():\n",
    "        f.write(f\"{row['Labeled_Message']}\\n\\n\")\n",
    "print(f\"Labeled data saved to {labeled_data_path}\")"
   ]
  },
  {
   "cell_type": "code",
   "execution_count": 166,
   "metadata": {},
   "outputs": [
    {
     "name": "stdout",
     "output_type": "stream",
     "text": [
      "Total number of messages: 56\n",
      "Number of unique channels: 1\n"
     ]
    }
   ],
   "source": [
    "# Basic statistics\n",
    "print(\"Total number of messages:\", len(df))\n",
    "print(\"Number of unique channels:\", df['Channel Username'].nunique())"
   ]
  },
  {
   "cell_type": "code",
   "execution_count": 188,
   "metadata": {},
   "outputs": [],
   "source": [
    "def preprocess_dataset(records):\n",
    "    preprocessed_records = []\n",
    "    \n",
    "    for record in records:\n",
    "        \n",
    "        # Assuming the text is in a field called 'message'\n",
    "        message = record.get('Message', \" \")\n",
    "       \n",
    "        # Tokenize the message (modify for Amharic-specific preprocessing if needed)    \n",
    "        tokens = re.findall(r'\\S+', message)\n",
    "        # Append the preprocessed record with tokens\n",
    "        preprocessed_records.append({\n",
    "            'message': message,\n",
    "            'tokens': tokens\n",
    "        })\n",
    "    \n",
    "    return preprocessed_records"
   ]
  },
  {
   "cell_type": "code",
   "execution_count": 179,
   "metadata": {},
   "outputs": [],
   "source": [
    "# Convert preprocessed data back to a DataFrame\n",
    "preprocessed_data = preprocess_dataset(df.to_dict('records'))"
   ]
  },
  {
   "cell_type": "code",
   "execution_count": 178,
   "metadata": {},
   "outputs": [],
   "source": [
    "# Token analysis\n",
    "all_tokens = [token for tokens in preprocessed_df['tokens'] for token in tokens]\n",
    "token_counts = Counter(all_tokens)\n",
    "# # Token analysis\n",
    "# all_tokens = [token for tokens in df['tokens'] for token in tokens]\n",
    "# token_counts = Counter(all_tokens)"
   ]
  },
  {
   "cell_type": "code",
   "execution_count": 176,
   "metadata": {},
   "outputs": [
    {
     "name": "stdout",
     "output_type": "stream",
     "text": [
      "Total number of tokens: 6224\n",
      "Number of unique tokens: 1375\n"
     ]
    }
   ],
   "source": [
    "print(\"Total number of tokens:\", len(all_tokens))\n",
    "print(\"Number of unique tokens:\", len(token_counts))"
   ]
  },
  {
   "cell_type": "code",
   "execution_count": 182,
   "metadata": {},
   "outputs": [
    {
     "data": {
      "image/png": "[encoded data removed]",
      "text/plain": [
       "<Figure size 1200x600 with 1 Axes>"
      ]
     },
     "metadata": {},
     "output_type": "display_data"
    }
   ],
   "source": [
    "from matplotlib import font_manager\n",
    "font='../data/washrab.ttf'\n",
    "property = font_manager.FontProperties(fname=font)\n",
    "plt.figure(figsize=(12, 6))\n",
    "plt.bar(*zip(*token_counts.most_common(20)))\n",
    "plt.title('20 Most Common Tokens')\n",
    "plt.xlabel('Token')\n",
    "plt.ylabel('Frequency')\n",
    "plt.xticks(rotation=45, ha='right', fontproperties=property)\n",
    "plt.tight_layout()\n",
    "plt.show()"
   ]
  },
  {
   "cell_type": "code",
   "execution_count": 184,
   "metadata": {},
   "outputs": [
    {
     "data": {
      "image/png": "[encoded data removed]",
      "text/plain": [
       "<Figure size 1000x500 with 1 Axes>"
      ]
     },
     "metadata": {},
     "output_type": "display_data"
    }
   ],
   "source": [
    "# Message length analysis\n",
    "preprocessed_df['message_length'] = preprocessed_df['message'].str.len()\n",
    "\n",
    "plt.figure(figsize=(10, 5))\n",
    "plt.hist(preprocessed_df['message_length'], bins=50)\n",
    "plt.title('Distribution of Message Lengths')\n",
    "plt.xlabel('Message Length (characters)')\n",
    "plt.ylabel('Frequency')\n",
    "plt.show()\n"
   ]
  },
  {
   "cell_type": "code",
   "execution_count": 185,
   "metadata": {},
   "outputs": [
    {
     "data": {
      "image/png": "[encoded data removed]",
      "text/plain": [
       "<Figure size 1200x600 with 1 Axes>"
      ]
     },
     "metadata": {},
     "output_type": "display_data"
    }
   ],
   "source": [
    "# Time analysis\n",
    "df['Date'] = pd.to_datetime(df['Date'])\n",
    "df['hour'] = df['Date'].dt.hour\n",
    "\n",
    "hourly_counts = df['hour'].value_counts().sort_index()\n",
    "\n",
    "plt.figure(figsize=(12, 6))\n",
    "plt.plot(hourly_counts.index, hourly_counts.values)\n",
    "plt.title('Message Frequency by Hour')\n",
    "plt.xlabel('Hour of Day')\n",
    "plt.ylabel('Number of Messages')\n",
    "plt.xticks(range(0, 24))\n",
    "plt.grid(True)\n",
    "plt.show()"
   ]
  }
 ],
 "metadata": {
  "kernelspec": {
   "display_name": "week5",
   "language": "python",
   "name": "python3"
  },
  "language_info": {
   "codemirror_mode": {
    "name": "ipython",
    "version": 3
   },
   "file_extension": ".py",
   "mimetype": "text/x-python",
   "name": "python",
   "nbconvert_exporter": "python",
   "pygments_lexer": "ipython3",
   "version": "3.8.10"
  }
 },
 "nbformat": 4,
 "nbformat_minor": 2
}
